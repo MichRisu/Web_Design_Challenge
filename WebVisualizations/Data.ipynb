{
 "cells": [
  {
   "cell_type": "code",
   "execution_count": 1,
   "metadata": {},
   "outputs": [],
   "source": [
    "import pandas as pd"
   ]
  },
  {
   "cell_type": "code",
   "execution_count": 2,
   "metadata": {},
   "outputs": [],
   "source": [
    "df_data = pd.read_csv(\"../Assets/Resources/Weather_Data.csv\")"
   ]
  },
  {
   "cell_type": "code",
   "execution_count": 3,
   "metadata": {},
   "outputs": [],
   "source": [
    "df_data = df_data.drop(\"Unnamed: 0\", axis=1)"
   ]
  },
  {
   "cell_type": "code",
   "execution_count": 4,
   "metadata": {},
   "outputs": [
    {
     "data": {
      "text/html": [
       "<div>\n",
       "<style scoped>\n",
       "    .dataframe tbody tr th:only-of-type {\n",
       "        vertical-align: middle;\n",
       "    }\n",
       "\n",
       "    .dataframe tbody tr th {\n",
       "        vertical-align: top;\n",
       "    }\n",
       "\n",
       "    .dataframe thead th {\n",
       "        text-align: right;\n",
       "    }\n",
       "</style>\n",
       "<table border=\"1\" class=\"dataframe\">\n",
       "  <thead>\n",
       "    <tr style=\"text-align: right;\">\n",
       "      <th></th>\n",
       "      <th>City</th>\n",
       "      <th>Lat</th>\n",
       "      <th>Lng</th>\n",
       "      <th>Max Temp (F)</th>\n",
       "      <th>Humidity (%)</th>\n",
       "      <th>Cloudiness (%)</th>\n",
       "      <th>Wind Speed (mph)</th>\n",
       "      <th>Country</th>\n",
       "      <th>Date</th>\n",
       "    </tr>\n",
       "  </thead>\n",
       "  <tbody>\n",
       "    <tr>\n",
       "      <th>0</th>\n",
       "      <td>Dikson</td>\n",
       "      <td>73.51</td>\n",
       "      <td>80.55</td>\n",
       "      <td>30.72</td>\n",
       "      <td>94</td>\n",
       "      <td>100</td>\n",
       "      <td>20.83</td>\n",
       "      <td>RU</td>\n",
       "      <td>1602798371</td>\n",
       "    </tr>\n",
       "    <tr>\n",
       "      <th>1</th>\n",
       "      <td>Hithadhoo</td>\n",
       "      <td>-0.60</td>\n",
       "      <td>73.08</td>\n",
       "      <td>82.31</td>\n",
       "      <td>75</td>\n",
       "      <td>97</td>\n",
       "      <td>20.09</td>\n",
       "      <td>MV</td>\n",
       "      <td>1602798372</td>\n",
       "    </tr>\n",
       "    <tr>\n",
       "      <th>2</th>\n",
       "      <td>Moerai</td>\n",
       "      <td>-22.43</td>\n",
       "      <td>-151.33</td>\n",
       "      <td>72.18</td>\n",
       "      <td>84</td>\n",
       "      <td>88</td>\n",
       "      <td>18.54</td>\n",
       "      <td>PF</td>\n",
       "      <td>1602798372</td>\n",
       "    </tr>\n",
       "    <tr>\n",
       "      <th>3</th>\n",
       "      <td>George Town</td>\n",
       "      <td>5.41</td>\n",
       "      <td>100.34</td>\n",
       "      <td>77.00</td>\n",
       "      <td>88</td>\n",
       "      <td>40</td>\n",
       "      <td>8.05</td>\n",
       "      <td>MY</td>\n",
       "      <td>1602798243</td>\n",
       "    </tr>\n",
       "    <tr>\n",
       "      <th>4</th>\n",
       "      <td>Punta Arenas</td>\n",
       "      <td>-53.15</td>\n",
       "      <td>-70.92</td>\n",
       "      <td>51.80</td>\n",
       "      <td>53</td>\n",
       "      <td>75</td>\n",
       "      <td>34.45</td>\n",
       "      <td>CL</td>\n",
       "      <td>1602798373</td>\n",
       "    </tr>\n",
       "  </tbody>\n",
       "</table>\n",
       "</div>"
      ],
      "text/plain": [
       "           City    Lat     Lng  Max Temp (F)  Humidity (%)  Cloudiness (%)  \\\n",
       "0        Dikson  73.51   80.55         30.72            94             100   \n",
       "1     Hithadhoo  -0.60   73.08         82.31            75              97   \n",
       "2        Moerai -22.43 -151.33         72.18            84              88   \n",
       "3   George Town   5.41  100.34         77.00            88              40   \n",
       "4  Punta Arenas -53.15  -70.92         51.80            53              75   \n",
       "\n",
       "   Wind Speed (mph) Country        Date  \n",
       "0             20.83      RU  1602798371  \n",
       "1             20.09      MV  1602798372  \n",
       "2             18.54      PF  1602798372  \n",
       "3              8.05      MY  1602798243  \n",
       "4             34.45      CL  1602798373  "
      ]
     },
     "execution_count": 4,
     "metadata": {},
     "output_type": "execute_result"
    }
   ],
   "source": [
    "df_data.head()"
   ]
  },
  {
   "cell_type": "code",
   "execution_count": 5,
   "metadata": {},
   "outputs": [],
   "source": [
    "df_data.to_html(\"Latitude_Data.html\")"
   ]
  },
  {
   "cell_type": "code",
   "execution_count": null,
   "metadata": {},
   "outputs": [],
   "source": []
  }
 ],
 "metadata": {
  "kernelspec": {
   "display_name": "Python 3",
   "language": "python",
   "name": "python3"
  },
  "language_info": {
   "codemirror_mode": {
    "name": "ipython",
    "version": 3
   },
   "file_extension": ".py",
   "mimetype": "text/x-python",
   "name": "python",
   "nbconvert_exporter": "python",
   "pygments_lexer": "ipython3",
   "version": "3.7.6"
  }
 },
 "nbformat": 4,
 "nbformat_minor": 4
}
